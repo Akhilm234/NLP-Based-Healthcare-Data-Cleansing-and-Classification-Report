{
  "cells": [
    {
      "cell_type": "code",
      "execution_count": 6,
      "metadata": {},
      "outputs": [
        {
          "name": "stdout",
          "output_type": "stream",
          "text": [
            "Requirement already satisfied: pandas in c:\\users\\hp\\anaconda3\\lib\\site-packages (2.2.2)\n",
            "Requirement already satisfied: nltk in c:\\users\\hp\\anaconda3\\lib\\site-packages (3.8.1)\n",
            "Collecting spacy\n",
            "  Using cached spacy-3.8.4-cp312-cp312-win_amd64.whl.metadata (27 kB)\n",
            "Requirement already satisfied: scikit-learn in c:\\users\\hp\\anaconda3\\lib\\site-packages (1.4.2)\n",
            "Requirement already satisfied: seaborn in c:\\users\\hp\\anaconda3\\lib\\site-packages (0.13.2)\n",
            "Requirement already satisfied: matplotlib in c:\\users\\hp\\anaconda3\\lib\\site-packages (3.8.4)\n"
          ]
        },
        {
          "name": "stderr",
          "output_type": "stream",
          "text": [
            "ERROR: Could not find a version that satisfies the requirement autoai-libs (from versions: none)\n",
            "ERROR: No matching distribution found for autoai-libs\n"
          ]
        }
      ],
      "source": [
        "!pip install pandas nltk spacy scikit-learn seaborn matplotlib autoai-libs"
      ]
    },
    {
      "cell_type": "code",
      "execution_count": 7,
      "metadata": {
        "id": "CAXFv8t5F2_h"
      },
      "outputs": [
        {
          "ename": "ModuleNotFoundError",
          "evalue": "No module named 'pandas'",
          "output_type": "error",
          "traceback": [
            "\u001b[1;31m---------------------------------------------------------------------------\u001b[0m",
            "\u001b[1;31mModuleNotFoundError\u001b[0m                       Traceback (most recent call last)",
            "Cell \u001b[1;32mIn[7], line 1\u001b[0m\n\u001b[1;32m----> 1\u001b[0m \u001b[38;5;28;01mimport\u001b[39;00m\u001b[38;5;250m \u001b[39m\u001b[38;5;21;01mpandas\u001b[39;00m\u001b[38;5;250m \u001b[39m\u001b[38;5;28;01mas\u001b[39;00m\u001b[38;5;250m \u001b[39m\u001b[38;5;21;01mpd\u001b[39;00m\n\u001b[0;32m      2\u001b[0m \u001b[38;5;28;01mimport\u001b[39;00m\u001b[38;5;250m \u001b[39m\u001b[38;5;21;01mnltk\u001b[39;00m\n\u001b[0;32m      3\u001b[0m \u001b[38;5;28;01mimport\u001b[39;00m\u001b[38;5;250m \u001b[39m\u001b[38;5;21;01mre\u001b[39;00m\n",
            "\u001b[1;31mModuleNotFoundError\u001b[0m: No module named 'pandas'"
          ]
        }
      ],
      "source": [
        "import pandas as pd\n",
        "import nltk\n",
        "import re\n",
        "from nltk.corpus import stopwords\n",
        "from nltk.stem import WordNetLemmatizer\n",
        "import spacy\n",
        "from sklearn.model_selection import train_test_split, GridSearchCV, StratifiedKFold\n",
        "from sklearn.feature_extraction.text import TfidfVectorizer\n",
        "from sklearn.ensemble import RandomForestClassifier\n",
        "from sklearn.linear_model import LogisticRegression  # Import Logistic Regression\n",
        "from sklearn.metrics import classification_report, confusion_matrix, accuracy_score\n",
        "import seaborn as sns\n",
        "import matplotlib.pyplot as plt\n",
        "\n",
        "nltk.download('punkt', quiet=True)\n",
        "nltk.download('stopwords', quiet=True)\n",
        "nltk.download('wordnet', quiet=True)\n",
        "nltk.download('punkt_tab', quiet=True)\n",
        "nlp = spacy.load(\"en_core_web_sm\")\n",
        "\n",
        "def clean_text(text):\n",
        "    if pd.isna(text):\n",
        "        return \"\"\n",
        "    text = text.lower()\n",
        "    text = re.sub(r'[^\\w\\s]', '', text)\n",
        "    tokens = nltk.word_tokenize(text)\n",
        "    stop_words = set(stopwords.words('english'))\n",
        "    lemmatizer = WordNetLemmatizer()\n",
        "    cleaned_tokens = [lemmatizer.lemmatize(token) for token in tokens if token not in stop_words]\n",
        "    return \" \".join(cleaned_tokens)\n",
        "\n",
        "def expand_abbreviations(text):\n",
        "    abbrev_dict = {\n",
        "        \"MI\": \"Myocardial Infarction\",\n",
        "        \"DM2\": \"Type 2 Diabetes\",\n",
        "        \"HTN\": \"Hypertension\",\n",
        "        \"CAD\": \"Coronary Artery Disease\",\n",
        "    }\n",
        "    for abbrev, expansion in abbrev_dict.items():\n",
        "        text = text.replace(abbrev, expansion)\n",
        "    return text\n",
        "\n",
        "def normalize_concepts(text):\n",
        "    concept_map = {\n",
        "        \"heart attack\": \"Myocardial Infarction\",\n",
        "        \"high blood pressure\": \"Hypertension\",\n",
        "        \"type ii diabetes\": \"Type 2 Diabetes\",\n",
        "    }\n",
        "    for concept, normalized in concept_map.items():\n",
        "        text = text.replace(concept, normalized)\n",
        "    return text\n",
        "\n",
        "def extract_entities(text):\n",
        "    if isinstance(text, str):\n",
        "        doc = nlp(text)\n",
        "        return [(ent.text, ent.label_) for ent in doc.ents]\n",
        "    else:\n",
        "        return []\n",
        "\n",
        "try:\n",
        "    df = pd.read_csv('healthcare_data.csv')\n",
        "except FileNotFoundError:\n",
        "    print(\"Error: healthcare_data.csv not found.\")\n",
        "    exit()\n",
        "\n",
        "df['cleaned_description'] = df['description'].apply(clean_text)\n",
        "df['expanded_description'] = df['cleaned_description'].apply(expand_abbreviations)\n",
        "df['normalized_description'] = df['expanded_description'].apply(normalize_concepts)\n",
        "df['entities'] = df['description'].apply(extract_entities)\n",
        "\n",
        "df = df.dropna(subset=['diagnosis'])\n",
        "X = df['normalized_description']\n",
        "y = df['diagnosis']\n",
        "\n",
        "X_train, X_test, y_train, y_test = train_test_split(X, y, test_size=0.2, random_state=42, stratify=y)\n",
        "\n",
        "vectorizer = TfidfVectorizer()\n",
        "X_train_tfidf = vectorizer.fit_transform(X_train)\n",
        "X_test_tfidf = vectorizer.transform(X_test)\n",
        "\n",
        "# 1. Random Forest\n",
        "rf_model = RandomForestClassifier(random_state=42)\n",
        "rf_param_grid = {\n",
        "    'n_estimators': [50, 100, 200],  # Reduced for demonstration\n",
        "    'max_depth': [None, 10, 20],      # Reduced for demonstration\n",
        "}\n",
        "rf_grid_search = GridSearchCV(rf_model, rf_param_grid, cv=3, n_jobs=-1, verbose=1)\n",
        "rf_grid_search.fit(X_train_tfidf, y_train)\n",
        "rf_best_model = rf_grid_search.best_estimator_\n",
        "\n",
        "rf_y_pred = rf_best_model.predict(X_test_tfidf)\n",
        "print(\"\\nRandom Forest Classification Report:\")\n",
        "print(classification_report(y_test, rf_y_pred))\n",
        "\n",
        "# 2. Logistic Regression\n",
        "lr_model = LogisticRegression(random_state=42, max_iter=1000)  # Increased max_iter\n",
        "lr_param_grid = {\n",
        "    'C': [0.1, 1, 10],\n",
        "    'penalty': ['l1', 'l2']\n",
        "}\n",
        "lr_grid_search = GridSearchCV(lr_model, lr_param_grid, cv=3, n_jobs=-1, verbose=1)\n",
        "lr_grid_search.fit(X_train_tfidf, y_train)\n",
        "lr_best_model = lr_grid_search.best_estimator_\n",
        "\n",
        "lr_y_pred = lr_best_model.predict(X_test_tfidf)\n",
        "print(\"\\nLogistic Regression Classification Report:\")\n",
        "print(classification_report(y_test, lr_y_pred))\n",
        "\n",
        "# Model Comparison Table\n",
        "results = {\n",
        "    'Model': ['Random Forest', 'Logistic Regression'],\n",
        "    'Accuracy': [accuracy_score(y_test, rf_y_pred), accuracy_score(y_test, lr_y_pred)]\n",
        "}\n",
        "\n",
        "results_df = pd.DataFrame(results)\n",
        "print(\"\\nModel Comparison:\")\n",
        "print(results_df)\n",
        "\n",
        "# Confusion Matrix (for best model - change as needed)\n",
        "cm = confusion_matrix(y_test, rf_y_pred)  # Change model as needed\n",
        "sns.heatmap(cm, annot=True, fmt='d', cmap='Blues')\n",
        "plt.title(\"Confusion Matrix (Random Forest)\")  # Change title as needed\n",
        "plt.show()"
      ]
    }
  ],
  "metadata": {
    "colab": {
      "provenance": []
    },
    "kernelspec": {
      "display_name": "Python 3",
      "name": "python3"
    },
    "language_info": {
      "codemirror_mode": {
        "name": "ipython",
        "version": 3
      },
      "file_extension": ".py",
      "mimetype": "text/x-python",
      "name": "python",
      "nbconvert_exporter": "python",
      "pygments_lexer": "ipython3",
      "version": "3.12.6"
    }
  },
  "nbformat": 4,
  "nbformat_minor": 0
}
